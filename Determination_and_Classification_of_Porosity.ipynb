{
  "nbformat": 4,
  "nbformat_minor": 0,
  "metadata": {
    "colab": {
      "name": "Determination and Classification of Porosity",
      "provenance": []
    },
    "kernelspec": {
      "name": "python3",
      "display_name": "Python 3"
    },
    "language_info": {
      "name": "python"
    }
  },
  "cells": [
    {
      "cell_type": "code",
      "execution_count": null,
      "metadata": {
        "colab": {
          "base_uri": "https://localhost:8080/"
        },
        "id": "_NNbMaXM5TU2",
        "outputId": "a071d4c1-cd8d-4397-96cf-1974a944d1b2"
      },
      "outputs": [
        {
          "output_type": "stream",
          "name": "stdout",
          "text": [
            ">>>>>MENU<<<<<\n",
            " [0] Exit\n",
            " [1] Klasifikasi Porositas\n",
            " [2] Perhitungan Porositas \n",
            ">>>>>>><<<<<<<\n"
          ]
        }
      ],
      "source": [
        "# Kemal Reviansyah Hermawanto_101320118\n",
        "# Achmad Iyan Alfadany_101320032\n",
        "# TUGAS PTIA 2021\n",
        "\n",
        "import pandas as pd\n",
        "def porosity(Vb,Vg):\n",
        "    porosity = (Vb - Vg)/Vb * 100\n",
        "    return porosity\n",
        "def kelporosity():\n",
        "    data = {\n",
        "    \"Kualitas\":[\"Diabaikan (Negligible)\", \"Buruk (Poor)\", \"Cukup (Fair)\" , \"Baik (Good)\", \"Sangat Baik (Very Good)\", \"Istimewa (Excellent)\"],\n",
        "    \"Porositas\" :[\"0 - 5 %\",\"5 - 10 %\",\"10 - 15 %\",\"15 - 20 %\",\"20 - 25 %\",\"> 25 %\"]\n",
        "    }\n",
        "    df = pd.DataFrame(data)\n",
        "    print(df)\n",
        "while True:\n",
        "    print(\">>>>>MENU<<<<<\")\n",
        "    print(\" [0] Exit\\n [1] Klasifikasi Porositas\\n [2] Perhitungan Porositas \")\n",
        "    print(\">>>>>>><<<<<<<\")\n",
        "    option = input(\"Masukkan Pilihan Anda: \")\n",
        "    if option == \"1\":\n",
        "        print(\"=====TABEL KUALITAS POROSITAS SUATU BATUAN=====\")\n",
        "        print(kelporosity())\n",
        "    elif option == \"2\":\n",
        "        print(\"=====PERHITUNGAN POROSITAS=====\")\n",
        "        x= float(input(\"Masukkan Nilai Volume Bulk : \"))\n",
        "        y= float(input(\"Masukkan Nilai Volume Grain : \"))\n",
        "        print(\"nilai Porositas :\", porosity(x,y), \"%\")\n",
        "        data = float(porosity(x,y))\n",
        "        while True:\n",
        "            if data >= 0 and data <= 5.0:\n",
        "                print(\"Kualitas Porositas : Diabaikan\")\n",
        "                break \n",
        "            elif data > 5.0 and data <= 10.0:\n",
        "                print (\"Kualitas Porositas : Buruk\")\n",
        "                break\n",
        "            elif data > 10.0 and data <= 15.0:\n",
        "                print (\"Kualitas Porositas : Cukup\")\n",
        "                break\n",
        "            elif data > 15.0 and data <= 20.0:\n",
        "                print (\"Kualitas Porositas : Baik\")\n",
        "                break\n",
        "            elif data > 20.0 and data <= 25.0:\n",
        "                print (\"Kualitas Porositas : Sangat Baik\")\n",
        "                break\n",
        "            elif data > 25.0:\n",
        "                print (\"Kualitas Porositas : Istimewa\")\n",
        "                break\n",
        "            else:\n",
        "                print(\"ERROR\")\n",
        "                print(\"POROSITAS TIDAK DAPAT DI KLASIFIKASIKAN\")\n",
        "                break\n",
        "    elif option == \"0\":\n",
        "        break    \n",
        "    else:\n",
        "        print(\"Invalid Option\")"
      ]
    }
  ]
}